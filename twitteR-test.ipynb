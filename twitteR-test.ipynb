{
 "cells": [
  {
   "cell_type": "code",
   "execution_count": 1,
   "metadata": {
    "collapsed": true
   },
   "outputs": [],
   "source": [
    "library(twitteR)"
   ]
  },
  {
   "cell_type": "code",
   "execution_count": 3,
   "metadata": {
    "collapsed": false
   },
   "outputs": [
    {
     "name": "stdout",
     "output_type": "stream",
     "text": [
      "[1] \"Using direct authentication\"\n"
     ]
    }
   ],
   "source": [
    "setup_twitter_oauth(\"7WSswdKXvlPjiQ3z4F2PhnJUg\", \"0Ge9vAVtjhv5I6YHA8z5x3Y9XEAp0KpLkprhfmRlZmoubdMe0G\", \"3414398440-H51GNVo7nIJrdzqENsJyxvsWUq0ZwFTgyXunQ98\", \"rQwOF6WhC7SYaFQHFSEsGCcIhB2PjgGmtbZnjcVSNgqTx\")"
   ]
  },
  {
   "cell_type": "code",
   "execution_count": 4,
   "metadata": {
    "collapsed": true
   },
   "outputs": [],
   "source": [
    "tweets <- searchTwitter('#trump', n=10)"
   ]
  },
  {
   "cell_type": "code",
   "execution_count": 5,
   "metadata": {
    "collapsed": false
   },
   "outputs": [
    {
     "data": {
      "text/plain": [
       "[[1]]\n",
       "[1] \"rbparrilla: RT @realjunsonchan: We won't let the feral liberals, democrats, and rat bastard 9th circuit court of appeals do this to us. #Trump #Maga #a…\"\n",
       "\n",
       "[[2]]\n",
       "[1] \"BLBeck: RT @mollyday15: #UnderArmour and #NewBalance have revealed they are #Trump supporters. I'm going shopping! https://t.co/YQx2P3O39v\"\n",
       "\n",
       "[[3]]\n",
       "[1] \"KazuhikoFujita3: RT @willripleyCNN: President #Trump sounds like he's picking a fight with #Japan over trade. Could make for tricky talks w/ PM #Abe. https:…\"\n",
       "\n",
       "[[4]]\n",
       "[1] \"RealJoeSixPack: @AnnCoulter \\xed\\xa0\\xbe\\xed\\xb4\\x94Diversity is our str\\xed\\xa0\\xbd\\xed\\xb2\\xa5KABOOM!\\n\\n#BuildTheWall @POTUS #Trump &amp; #MAGA !\\n\\nAnd #Resist #NoBanNoWall #Liberals - They can #KissMyAss !\"\n",
       "\n",
       "[[5]]\n",
       "[1] \"politics_and: RT @SilverAdie: Fascist Dictator wannabe  #Trump thwarted by 9th Circuit banning the ban which made no sense &amp; was unconstitutional. #TheRe…\"\n",
       "\n",
       "[[6]]\n",
       "[1] \"DimitriNosarev: RT @RiseOfLiberty1: We can't stop podcasting! Another new one. A conversation with a never Trumper. #politics #environment #Trump \\nhttps://…\"\n"
      ]
     },
     "metadata": {},
     "output_type": "display_data"
    }
   ],
   "source": [
    "head(tweets)"
   ]
  },
  {
   "cell_type": "code",
   "execution_count": 6,
   "metadata": {
    "collapsed": false
   },
   "outputs": [
    {
     "data": {
      "text/plain": [
       "[[1]]\n",
       "[1] \"RealJoeSixPack: @AnnCoulter \\xed\\xa0\\xbe\\xed\\xb4\\x94Diversity is our str\\xed\\xa0\\xbd\\xed\\xb2\\xa5KABOOM!\\n\\n#BuildTheWall @POTUS #Trump &amp; #MAGA !\\n\\nAnd #Resist #NoBanNoWall #Liberals - They can #KissMyAss !\"\n"
      ]
     },
     "metadata": {},
     "output_type": "display_data"
    }
   ],
   "source": [
    "head(strip_retweets(tweets, strip_manual=TRUE, strip_mt=TRUE))"
   ]
  },
  {
   "cell_type": "code",
   "execution_count": 8,
   "metadata": {
    "collapsed": false
   },
   "outputs": [],
   "source": [
    "tweets <- searchTwitter('#rstats', n=50)"
   ]
  },
  {
   "cell_type": "code",
   "execution_count": 9,
   "metadata": {
    "collapsed": false
   },
   "outputs": [
    {
     "data": {
      "text/plain": [
       "[[1]]\n",
       "[1] \"LjStatEst: creating tidy data - An important technique for #datascience #rstats via https://t.co/HjnqqrFmWX https://t.co/3gHfXzKyMr\"\n",
       "\n",
       "[[2]]\n",
       "[1] \"WinVectorLLC: Free #datascience screencast: Debugging #magrittr pipelines with Bizarro Pipe https://t.co/U67PjOU6J8 #rlang #rstats\"\n",
       "\n",
       "[[3]]\n",
       "[1] \"DataScienceInR: Free #datascience screencast: Debugging #magrittr pipelines with Bizarro Pipe https://t.co/zi81gWyZDT #rlang #rstats\"\n",
       "\n",
       "[[4]]\n",
       "[1] \"iDATA_co: Buscamos científico de datos #Empleo #Medellin #Colombia #RStats CV contacto@idata.com.co \\xed\\xa0\\xbe\\xed\\xb4\\x93 \\xed\\xa0\\xbd\\xed\\xb5\\xb5️\\xed\\xa0\\xbd\\xed\\xb6\\xa5️\\xed\\xa0\\xbd\\xed\\xb3\\x8a\\xed\\xa0\\xbd\\xed\\xb3\\x88\\xed\\xa0\\xbd\\xed\\xb3\\x89… https://t.co/vCueE9OBsu\"\n",
       "\n",
       "[[5]]\n",
       "[1] \"CRANberriesFeed: CRAN updates: funcy https://t.co/y5W2NTKSXT #rstats\"\n",
       "\n",
       "[[6]]\n",
       "[1] \"StableMarkets: Stating a signif cutoff and giving addresses of Excel and SPSS HQs is not a sufficient \\\"Statistical Analysis\\\" secti… https://t.co/V48SANcJpW\"\n"
      ]
     },
     "metadata": {},
     "output_type": "display_data"
    }
   ],
   "source": [
    "head(strip_retweets(tweets, strip_manual=TRUE, strip_mt=TRUE))"
   ]
  },
  {
   "cell_type": "code",
   "execution_count": 10,
   "metadata": {
    "collapsed": true
   },
   "outputs": [],
   "source": [
    "winvector <- getUser('WinVectorLLC')"
   ]
  },
  {
   "cell_type": "code",
   "execution_count": 11,
   "metadata": {
    "collapsed": false
   },
   "outputs": [
    {
     "data": {
      "text/html": [
       "<span style=white-space:pre-wrap>'Data Science consulting by John Mount and Nina Zumel.  Check out our data science book https://t.co/aWnW4SHisP and blog https://t.co/aPPH3GpCsM'</span>"
      ],
      "text/latex": [
       "'Data Science consulting by John Mount and Nina Zumel.  Check out our data science book https://t.co/aWnW4SHisP and blog https://t.co/aPPH3GpCsM'"
      ],
      "text/markdown": [
       "<span style=white-space:pre-wrap>'Data Science consulting by John Mount and Nina Zumel.  Check out our data science book https://t.co/aWnW4SHisP and blog https://t.co/aPPH3GpCsM'</span>"
      ],
      "text/plain": [
       "[1] \"Data Science consulting by John Mount and Nina Zumel.  Check out our data science book https://t.co/aWnW4SHisP and blog https://t.co/aPPH3GpCsM\""
      ]
     },
     "metadata": {},
     "output_type": "display_data"
    }
   ],
   "source": [
    "winvector$getDescription()"
   ]
  },
  {
   "cell_type": "code",
   "execution_count": 12,
   "metadata": {
    "collapsed": false
   },
   "outputs": [
    {
     "data": {
      "text/html": [
       "1360"
      ],
      "text/latex": [
       "1360"
      ],
      "text/markdown": [
       "1360"
      ],
      "text/plain": [
       "[1] 1360"
      ]
     },
     "metadata": {},
     "output_type": "display_data"
    }
   ],
   "source": [
    "winvector$getFollowersCount()"
   ]
  },
  {
   "cell_type": "code",
   "execution_count": 13,
   "metadata": {
    "collapsed": false
   },
   "outputs": [
    {
     "data": {
      "text/plain": [
       "$`2214230930`\n",
       "[1] \"DataAndDataViz\"\n",
       "\n",
       "$`1506740425`\n",
       "[1] \"ProCogia\"\n",
       "\n",
       "$`718449524`\n",
       "[1] \"srsupp\"\n",
       "\n",
       "$`270052245`\n",
       "[1] \"TomUrtis\"\n"
      ]
     },
     "metadata": {},
     "output_type": "display_data"
    }
   ],
   "source": [
    "winvector$getFriends(n=5)"
   ]
  },
  {
   "cell_type": "code",
   "execution_count": 14,
   "metadata": {
    "collapsed": false
   },
   "outputs": [
    {
     "data": {
      "text/plain": [
       "[[1]]\n",
       "[1] \"srsupp: @WinVectorLLC Thanks!\"\n",
       "\n",
       "[[2]]\n",
       "[1] \"srsupp: @fmic_ Thanks! There wasn't specific help for nest_, but I learned enough to experiment and finally figure out a solution!\"\n",
       "\n",
       "[[3]]\n",
       "[1] \"alex_gude: \\\"I'm interested in the applications of data science for science... Or as we used to call it, science.\\\" -- @stochastician #AnacondaCON\"\n",
       "\n",
       "[[4]]\n",
       "[1] \"fmic_: @srsupp I always end up referring to this site in these situations https://t.co/BWEmsY1AOk\"\n",
       "\n",
       "[[5]]\n",
       "[1] \"srsupp: I want to write a #dplyr function that can insert a variable for a column in my filter, nest, and summarise statements. Any tips? #rstats\"\n"
      ]
     },
     "metadata": {},
     "output_type": "display_data"
    }
   ],
   "source": [
    "winvector$getFavorites(n=5)"
   ]
  },
  {
   "cell_type": "code",
   "execution_count": 15,
   "metadata": {
    "collapsed": true
   },
   "outputs": [],
   "source": [
    "df <- twListToDF(tweets)"
   ]
  },
  {
   "cell_type": "code",
   "execution_count": 16,
   "metadata": {
    "collapsed": false
   },
   "outputs": [
    {
     "data": {
      "text/html": [
       "<table>\n",
       "<thead><tr><th scope=col>text</th><th scope=col>favorited</th><th scope=col>favoriteCount</th><th scope=col>replyToSN</th><th scope=col>created</th><th scope=col>truncated</th><th scope=col>replyToSID</th><th scope=col>id</th><th scope=col>replyToUID</th><th scope=col>statusSource</th><th scope=col>screenName</th><th scope=col>retweetCount</th><th scope=col>isRetweet</th><th scope=col>retweeted</th><th scope=col>longitude</th><th scope=col>latitude</th></tr></thead>\n",
       "<tbody>\n",
       "\t<tr><td>RT @Rbloggers: New R job: Data Production Engineer @ North Carolina, United States https://t.co/y62sYHC2U6 #rstats #DataScience #jobs</td><td>FALSE                                                                                                                                </td><td>0                                                                                                                                    </td><td>NA                                                                                                                                   </td><td>2017-02-10 02:23:54                                                                                                                  </td><td>FALSE                                                                                                                                </td><td>NA                                                                                                                                   </td><td>829878530934767616                                                                                                                   </td><td>NA                                                                                                                                   </td><td>&lt;a href=\"http://twitter.com/download/android\" rel=\"nofollow\"&gt;Twitter for Android&lt;/a&gt;                                     </td><td><span style=white-space:pre-wrap>atalqa        </span>                                                                               </td><td>7                                                                                                                                    </td><td> TRUE                                                                                                                                </td><td>FALSE                                                                                                                                </td><td>NA                                                                                                                                   </td><td>NA                                                                                                                                   </td></tr>\n",
       "\t<tr><td><span style=white-space:pre-wrap>RT @TrestleJeff: Announcing RStudio Connect 1.4.2! https://t.co/ODOUsLmk1Q #rstats                                                   </span></td><td>FALSE                                                                                                                                                                        </td><td>0                                                                                                                                                                            </td><td>NA                                                                                                                                                                           </td><td>2017-02-10 02:20:49                                                                                                                                                          </td><td>FALSE                                                                                                                                                                        </td><td>NA                                                                                                                                                                           </td><td>829877755424563201                                                                                                                                                           </td><td>NA                                                                                                                                                                           </td><td><span style=white-space:pre-wrap>&lt;a href=\"http://twitter.com/#!/download/ipad\" rel=\"nofollow\"&gt;Twitter for iPad&lt;/a&gt;   </span>                                     </td><td><span style=white-space:pre-wrap>kevin_ushey   </span>                                                                                                                       </td><td>2                                                                                                                                                                            </td><td> TRUE                                                                                                                                                                        </td><td>FALSE                                                                                                                                                                        </td><td>NA                                                                                                                                                                           </td><td>NA                                                                                                                                                                           </td></tr>\n",
       "\t<tr><td><span style=white-space:pre-wrap>RT @drob: My book \"Introduction to Empirical Bayes\" is now available on iTunes:\n",
       "\n",
       "https://t.co/x4AdiKPpST #rstats                   </span></td><td>FALSE                                                                                                                                                                        </td><td>0                                                                                                                                                                            </td><td>NA                                                                                                                                                                           </td><td>2017-02-10 02:18:12                                                                                                                                                          </td><td>FALSE                                                                                                                                                                        </td><td>NA                                                                                                                                                                           </td><td>829877093555003392                                                                                                                                                           </td><td>NA                                                                                                                                                                           </td><td><span style=white-space:pre-wrap>&lt;a href=\"http://twitter.com/download/iphone\" rel=\"nofollow\"&gt;Twitter for iPhone&lt;/a&gt;  </span>                                     </td><td><span style=white-space:pre-wrap>zanismlab     </span>                                                                                                                       </td><td>7                                                                                                                                                                            </td><td> TRUE                                                                                                                                                                        </td><td>FALSE                                                                                                                                                                        </td><td>NA                                                                                                                                                                           </td><td>NA                                                                                                                                                                           </td></tr>\n",
       "\t<tr><td><span style=white-space:pre-wrap>creating tidy data - An important technique for #datascience #rstats via https://t.co/HjnqqrFmWX https://t.co/3gHfXzKyMr             </span></td><td>FALSE                                                                                                                                                                        </td><td>0                                                                                                                                                                            </td><td>NA                                                                                                                                                                           </td><td>2017-02-10 02:18:06                                                                                                                                                          </td><td>FALSE                                                                                                                                                                        </td><td>NA                                                                                                                                                                           </td><td>829877068003356673                                                                                                                                                           </td><td>NA                                                                                                                                                                           </td><td><span style=white-space:pre-wrap>&lt;a href=\"http://twitter.com\" rel=\"nofollow\"&gt;Twitter Web Client&lt;/a&gt;                  </span>                                     </td><td><span style=white-space:pre-wrap>LjStatEst     </span>                                                                                                                       </td><td>0                                                                                                                                                                            </td><td>FALSE                                                                                                                                                                        </td><td>FALSE                                                                                                                                                                        </td><td>NA                                                                                                                                                                           </td><td>NA                                                                                                                                                                           </td></tr>\n",
       "\t<tr><td><span style=white-space:pre-wrap>Free #datascience screencast: Debugging #magrittr pipelines with Bizarro Pipe https://t.co/U67PjOU6J8 #rlang #rstats                 </span></td><td>FALSE                                                                                                                                                                        </td><td>1                                                                                                                                                                            </td><td>NA                                                                                                                                                                           </td><td>2017-02-10 02:11:01                                                                                                                                                          </td><td>FALSE                                                                                                                                                                        </td><td>NA                                                                                                                                                                           </td><td>829875287160659968                                                                                                                                                           </td><td>NA                                                                                                                                                                           </td><td>&lt;a href=\"https://about.twitter.com/products/tweetdeck\" rel=\"nofollow\"&gt;TweetDeck&lt;/a&gt;                                                                              </td><td><span style=white-space:pre-wrap>WinVectorLLC  </span>                                                                                                                       </td><td>0                                                                                                                                                                            </td><td>FALSE                                                                                                                                                                        </td><td>FALSE                                                                                                                                                                        </td><td>NA                                                                                                                                                                           </td><td>NA                                                                                                                                                                           </td></tr>\n",
       "\t<tr><td><span style=white-space:pre-wrap>Free #datascience screencast: Debugging #magrittr pipelines with Bizarro Pipe https://t.co/zi81gWyZDT #rlang #rstats                 </span></td><td>FALSE                                                                                                                                                                        </td><td>0                                                                                                                                                                            </td><td>NA                                                                                                                                                                           </td><td>2017-02-10 02:11:00                                                                                                                                                          </td><td>FALSE                                                                                                                                                                        </td><td>NA                                                                                                                                                                           </td><td>829875285218701312                                                                                                                                                           </td><td>NA                                                                                                                                                                           </td><td>&lt;a href=\"https://about.twitter.com/products/tweetdeck\" rel=\"nofollow\"&gt;TweetDeck&lt;/a&gt;                                                                              </td><td>DataScienceInR                                                                                                                                                               </td><td>0                                                                                                                                                                            </td><td>FALSE                                                                                                                                                                        </td><td>FALSE                                                                                                                                                                        </td><td>NA                                                                                                                                                                           </td><td>NA                                                                                                                                                                           </td></tr>\n",
       "</tbody>\n",
       "</table>\n"
      ],
      "text/latex": [
       "\\begin{tabular}{r|llllllllllllllll}\n",
       " text & favorited & favoriteCount & replyToSN & created & truncated & replyToSID & id & replyToUID & statusSource & screenName & retweetCount & isRetweet & retweeted & longitude & latitude\\\\\n",
       "\\hline\n",
       "\t RT @Rbloggers: New R job: Data Production Engineer @ North Carolina, United States https://t.co/y62sYHC2U6 \\#rstats \\#DataScience \\#jobs & FALSE                                                                                                                                       & 0                                                                                                                                           & NA                                                                                                                                          & 2017-02-10 02:23:54                                                                                                                         & FALSE                                                                                                                                       & NA                                                                                                                                          & 829878530934767616                                                                                                                          & NA                                                                                                                                          & <a href=\"http://twitter.com/download/android\" rel=\"nofollow\">Twitter for Android</a>                                                        & atalqa                                                                                                                                      & 7                                                                                                                                           &  TRUE                                                                                                                                       & FALSE                                                                                                                                       & NA                                                                                                                                          & NA                                                                                                                                         \\\\\n",
       "\t RT @TrestleJeff: Announcing RStudio Connect 1.4.2! https://t.co/ODOUsLmk1Q \\#rstats                                                    & FALSE                                                                                                                                   & 0                                                                                                                                       & NA                                                                                                                                      & 2017-02-10 02:20:49                                                                                                                     & FALSE                                                                                                                                   & NA                                                                                                                                      & 829877755424563201                                                                                                                      & NA                                                                                                                                      & <a href=\"http://twitter.com/\\#!/download/ipad\" rel=\"nofollow\">Twitter for iPad</a>                                                     & kevin\\_ushey                                                                                                                           & 2                                                                                                                                       &  TRUE                                                                                                                                   & FALSE                                                                                                                                   & NA                                                                                                                                      & NA                                                                                                                                     \\\\\n",
       "\t RT @drob: My book \"Introduction to Empirical Bayes\" is now available on iTunes:\n",
       "\n",
       "https://t.co/x4AdiKPpST \\#rstats                    & FALSE                                                                                                                                   & 0                                                                                                                                       & NA                                                                                                                                      & 2017-02-10 02:18:12                                                                                                                     & FALSE                                                                                                                                   & NA                                                                                                                                      & 829877093555003392                                                                                                                      & NA                                                                                                                                      & <a href=\"http://twitter.com/download/iphone\" rel=\"nofollow\">Twitter for iPhone</a>                                                      & zanismlab                                                                                                                               & 7                                                                                                                                       &  TRUE                                                                                                                                   & FALSE                                                                                                                                   & NA                                                                                                                                      & NA                                                                                                                                     \\\\\n",
       "\t creating tidy data - An important technique for \\#datascience \\#rstats via https://t.co/HjnqqrFmWX https://t.co/3gHfXzKyMr              & FALSE                                                                                                                                     & 0                                                                                                                                         & NA                                                                                                                                        & 2017-02-10 02:18:06                                                                                                                       & FALSE                                                                                                                                     & NA                                                                                                                                        & 829877068003356673                                                                                                                        & NA                                                                                                                                        & <a href=\"http://twitter.com\" rel=\"nofollow\">Twitter Web Client</a>                                                                        & LjStatEst                                                                                                                                 & 0                                                                                                                                         & FALSE                                                                                                                                     & FALSE                                                                                                                                     & NA                                                                                                                                        & NA                                                                                                                                       \\\\\n",
       "\t Free \\#datascience screencast: Debugging \\#magrittr pipelines with Bizarro Pipe https://t.co/U67PjOU6J8 \\#rlang \\#rstats                  & FALSE                                                                                                                                         & 1                                                                                                                                             & NA                                                                                                                                            & 2017-02-10 02:11:01                                                                                                                           & FALSE                                                                                                                                         & NA                                                                                                                                            & 829875287160659968                                                                                                                            & NA                                                                                                                                            & <a href=\"https://about.twitter.com/products/tweetdeck\" rel=\"nofollow\">TweetDeck</a>                                                           & WinVectorLLC                                                                                                                                  & 0                                                                                                                                             & FALSE                                                                                                                                         & FALSE                                                                                                                                         & NA                                                                                                                                            & NA                                                                                                                                           \\\\\n",
       "\t Free \\#datascience screencast: Debugging \\#magrittr pipelines with Bizarro Pipe https://t.co/zi81gWyZDT \\#rlang \\#rstats                  & FALSE                                                                                                                                         & 0                                                                                                                                             & NA                                                                                                                                            & 2017-02-10 02:11:00                                                                                                                           & FALSE                                                                                                                                         & NA                                                                                                                                            & 829875285218701312                                                                                                                            & NA                                                                                                                                            & <a href=\"https://about.twitter.com/products/tweetdeck\" rel=\"nofollow\">TweetDeck</a>                                                           & DataScienceInR                                                                                                                                & 0                                                                                                                                             & FALSE                                                                                                                                         & FALSE                                                                                                                                         & NA                                                                                                                                            & NA                                                                                                                                           \\\\\n",
       "\\end{tabular}\n"
      ],
      "text/markdown": [
       "\n",
       "text | favorited | favoriteCount | replyToSN | created | truncated | replyToSID | id | replyToUID | statusSource | screenName | retweetCount | isRetweet | retweeted | longitude | latitude | \n",
       "|---|---|---|---|---|---|\n",
       "| RT @Rbloggers: New R job: Data Production Engineer @ North Carolina, United States https://t.co/y62sYHC2U6 #rstats #DataScience #jobs | FALSE                                                                                                                                 | 0                                                                                                                                     | NA                                                                                                                                    | 2017-02-10 02:23:54                                                                                                                   | FALSE                                                                                                                                 | NA                                                                                                                                    | 829878530934767616                                                                                                                    | NA                                                                                                                                    | <a href=\"http://twitter.com/download/android\" rel=\"nofollow\">Twitter for Android</a>                                                  | atalqa                                                                                                                                | 7                                                                                                                                     |  TRUE                                                                                                                                 | FALSE                                                                                                                                 | NA                                                                                                                                    | NA                                                                                                                                    | \n",
       "| RT @TrestleJeff: Announcing RStudio Connect 1.4.2! https://t.co/ODOUsLmk1Q #rstats                                                    | FALSE                                                                                                                                 | 0                                                                                                                                     | NA                                                                                                                                    | 2017-02-10 02:20:49                                                                                                                   | FALSE                                                                                                                                 | NA                                                                                                                                    | 829877755424563201                                                                                                                    | NA                                                                                                                                    | <a href=\"http://twitter.com/#!/download/ipad\" rel=\"nofollow\">Twitter for iPad</a>                                                     | kevin_ushey                                                                                                                           | 2                                                                                                                                     |  TRUE                                                                                                                                 | FALSE                                                                                                                                 | NA                                                                                                                                    | NA                                                                                                                                    | \n",
       "| RT @drob: My book \"Introduction to Empirical Bayes\" is now available on iTunes:\n",
       "\n",
       "https://t.co/x4AdiKPpST #rstats                    | FALSE                                                                                                                                 | 0                                                                                                                                     | NA                                                                                                                                    | 2017-02-10 02:18:12                                                                                                                   | FALSE                                                                                                                                 | NA                                                                                                                                    | 829877093555003392                                                                                                                    | NA                                                                                                                                    | <a href=\"http://twitter.com/download/iphone\" rel=\"nofollow\">Twitter for iPhone</a>                                                    | zanismlab                                                                                                                             | 7                                                                                                                                     |  TRUE                                                                                                                                 | FALSE                                                                                                                                 | NA                                                                                                                                    | NA                                                                                                                                    | \n",
       "| creating tidy data - An important technique for #datascience #rstats via https://t.co/HjnqqrFmWX https://t.co/3gHfXzKyMr              | FALSE                                                                                                                                 | 0                                                                                                                                     | NA                                                                                                                                    | 2017-02-10 02:18:06                                                                                                                   | FALSE                                                                                                                                 | NA                                                                                                                                    | 829877068003356673                                                                                                                    | NA                                                                                                                                    | <a href=\"http://twitter.com\" rel=\"nofollow\">Twitter Web Client</a>                                                                    | LjStatEst                                                                                                                             | 0                                                                                                                                     | FALSE                                                                                                                                 | FALSE                                                                                                                                 | NA                                                                                                                                    | NA                                                                                                                                    | \n",
       "| Free #datascience screencast: Debugging #magrittr pipelines with Bizarro Pipe https://t.co/U67PjOU6J8 #rlang #rstats                  | FALSE                                                                                                                                 | 1                                                                                                                                     | NA                                                                                                                                    | 2017-02-10 02:11:01                                                                                                                   | FALSE                                                                                                                                 | NA                                                                                                                                    | 829875287160659968                                                                                                                    | NA                                                                                                                                    | <a href=\"https://about.twitter.com/products/tweetdeck\" rel=\"nofollow\">TweetDeck</a>                                                   | WinVectorLLC                                                                                                                          | 0                                                                                                                                     | FALSE                                                                                                                                 | FALSE                                                                                                                                 | NA                                                                                                                                    | NA                                                                                                                                    | \n",
       "| Free #datascience screencast: Debugging #magrittr pipelines with Bizarro Pipe https://t.co/zi81gWyZDT #rlang #rstats                  | FALSE                                                                                                                                 | 0                                                                                                                                     | NA                                                                                                                                    | 2017-02-10 02:11:00                                                                                                                   | FALSE                                                                                                                                 | NA                                                                                                                                    | 829875285218701312                                                                                                                    | NA                                                                                                                                    | <a href=\"https://about.twitter.com/products/tweetdeck\" rel=\"nofollow\">TweetDeck</a>                                                   | DataScienceInR                                                                                                                        | 0                                                                                                                                     | FALSE                                                                                                                                 | FALSE                                                                                                                                 | NA                                                                                                                                    | NA                                                                                                                                    | \n",
       "\n",
       "\n"
      ],
      "text/plain": [
       "  text                                                                                                                                 \n",
       "1 RT @Rbloggers: New R job: Data Production Engineer @ North Carolina, United States https://t.co/y62sYHC2U6 #rstats #DataScience #jobs\n",
       "2 RT @TrestleJeff: Announcing RStudio Connect 1.4.2! https://t.co/ODOUsLmk1Q #rstats                                                   \n",
       "3 RT @drob: My book \"Introduction to Empirical Bayes\" is now available on iTunes:\\n\\nhttps://t.co/x4AdiKPpST #rstats                   \n",
       "4 creating tidy data - An important technique for #datascience #rstats via https://t.co/HjnqqrFmWX https://t.co/3gHfXzKyMr             \n",
       "5 Free #datascience screencast: Debugging #magrittr pipelines with Bizarro Pipe https://t.co/U67PjOU6J8 #rlang #rstats                 \n",
       "6 Free #datascience screencast: Debugging #magrittr pipelines with Bizarro Pipe https://t.co/zi81gWyZDT #rlang #rstats                 \n",
       "  favorited favoriteCount replyToSN created             truncated replyToSID\n",
       "1 FALSE     0             NA        2017-02-10 02:23:54 FALSE     NA        \n",
       "2 FALSE     0             NA        2017-02-10 02:20:49 FALSE     NA        \n",
       "3 FALSE     0             NA        2017-02-10 02:18:12 FALSE     NA        \n",
       "4 FALSE     0             NA        2017-02-10 02:18:06 FALSE     NA        \n",
       "5 FALSE     1             NA        2017-02-10 02:11:01 FALSE     NA        \n",
       "6 FALSE     0             NA        2017-02-10 02:11:00 FALSE     NA        \n",
       "  id                 replyToUID\n",
       "1 829878530934767616 NA        \n",
       "2 829877755424563201 NA        \n",
       "3 829877093555003392 NA        \n",
       "4 829877068003356673 NA        \n",
       "5 829875287160659968 NA        \n",
       "6 829875285218701312 NA        \n",
       "  statusSource                                                                        \n",
       "1 <a href=\"http://twitter.com/download/android\" rel=\"nofollow\">Twitter for Android</a>\n",
       "2 <a href=\"http://twitter.com/#!/download/ipad\" rel=\"nofollow\">Twitter for iPad</a>   \n",
       "3 <a href=\"http://twitter.com/download/iphone\" rel=\"nofollow\">Twitter for iPhone</a>  \n",
       "4 <a href=\"http://twitter.com\" rel=\"nofollow\">Twitter Web Client</a>                  \n",
       "5 <a href=\"https://about.twitter.com/products/tweetdeck\" rel=\"nofollow\">TweetDeck</a> \n",
       "6 <a href=\"https://about.twitter.com/products/tweetdeck\" rel=\"nofollow\">TweetDeck</a> \n",
       "  screenName     retweetCount isRetweet retweeted longitude latitude\n",
       "1 atalqa         7             TRUE     FALSE     NA        NA      \n",
       "2 kevin_ushey    2             TRUE     FALSE     NA        NA      \n",
       "3 zanismlab      7             TRUE     FALSE     NA        NA      \n",
       "4 LjStatEst      0            FALSE     FALSE     NA        NA      \n",
       "5 WinVectorLLC   0            FALSE     FALSE     NA        NA      \n",
       "6 DataScienceInR 0            FALSE     FALSE     NA        NA      "
      ]
     },
     "metadata": {},
     "output_type": "display_data"
    }
   ],
   "source": [
    "head(df)"
   ]
  },
  {
   "cell_type": "code",
   "execution_count": 17,
   "metadata": {
    "collapsed": true
   },
   "outputs": [],
   "source": [
    "cran_tweets <- userTimeline('cranatic')"
   ]
  },
  {
   "cell_type": "code",
   "execution_count": 18,
   "metadata": {
    "collapsed": false
   },
   "outputs": [
    {
     "data": {
      "text/plain": [
       "[[1]]\n",
       "[1] \"cranatic: Update: Bchron, BoolNet, caribou, CePa, fmri, HTSCluster, isa2, lessR, lgcp, spatstat. http://t.co/skyrajMA #rstats\"\n",
       "\n",
       "[[2]]\n",
       "[1] \"cranatic: New: extrafont, extrafontdb, Rttf2pt1, x12GUI. http://t.co/skyrajMA #rstats\"\n",
       "\n",
       "[[3]]\n",
       "[1] \"cranatic: Update: drc, RcmdrPlugin.survival, rrcov, spls. http://t.co/eEoXNifB #rstats\"\n",
       "\n",
       "[[4]]\n",
       "[1] \"cranatic: New: hzar. http://t.co/eEoXNifB #rstats\"\n",
       "\n",
       "[[5]]\n",
       "[1] \"cranatic: Update: directlabels, forensim, gdata, gWidgetstcltk, gWidgetsWWW, harvestr, rrlda, Rz, Sim.DiffProc, ... http://t.co/9JEe7K91 #rstats\"\n"
      ]
     },
     "metadata": {},
     "output_type": "display_data"
    }
   ],
   "source": [
    "cran_tweets[1:5]"
   ]
  },
  {
   "cell_type": "code",
   "execution_count": null,
   "metadata": {
    "collapsed": true
   },
   "outputs": [],
   "source": []
  }
 ],
 "metadata": {
  "kernelspec": {
   "display_name": "R",
   "language": "R",
   "name": "ir"
  },
  "language_info": {
   "codemirror_mode": "r",
   "file_extension": ".r",
   "mimetype": "text/x-r-source",
   "name": "R",
   "pygments_lexer": "r",
   "version": "3.3.2"
  }
 },
 "nbformat": 4,
 "nbformat_minor": 2
}
